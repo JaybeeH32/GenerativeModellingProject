{
  "cells": [
    {
      "cell_type": "markdown",
      "metadata": {},
      "source": [
        "\n",
        "# Uncertainty quantification with PnP-ULA.\n",
        "\n",
        "This code shows you how to use sampling algorithms to quantify uncertainty of a reconstruction\n",
        "from incomplete and noisy measurements.\n",
        "\n",
        "ULA obtains samples by running the following iteration:\n",
        "\n",
        "\\begin{align}x_{k+1} = x_k +  \\alpha \\eta \\nabla \\log p_{\\sigma}(x_k) + \\eta \\nabla \\log p(y|x_k)  + \\sqrt{2 \\eta} z_k\\end{align}\n",
        "\n",
        "where $z_k \\sim \\mathcal{N}(0, I)$ is a Gaussian random variable, $\\eta$ is the step size and\n",
        "$\\alpha$ is a parameter controlling the regularization.\n",
        "\n",
        "The PnP-ULA method is described in the paper [\"Bayesian imaging using Plug & Play priors: when Langevin meets Tweedie\n",
        "\"](https://arxiv.org/abs/2103.04715).\n"
      ]
    },
    {
      "cell_type": "code",
      "execution_count": 1,
      "metadata": {
        "collapsed": false
      },
      "outputs": [
        {
          "name": "stderr",
          "output_type": "stream",
          "text": [
            "c:\\Users\\jbhim\\miniconda3\\envs\\altegrad\\Lib\\site-packages\\tqdm\\auto.py:21: TqdmWarning: IProgress not found. Please update jupyter and ipywidgets. See https://ipywidgets.readthedocs.io/en/stable/user_install.html\n",
            "  from .autonotebook import tqdm as notebook_tqdm\n"
          ]
        }
      ],
      "source": [
        "import deepinv as dinv\n",
        "from deepinv.utils.plotting import plot\n",
        "import torch\n",
        "from deepinv.utils.demo import load_url_image"
      ]
    },
    {
      "cell_type": "markdown",
      "metadata": {},
      "source": [
        "## Load image from the internet\n",
        "\n",
        "This example uses an image of Lionel Messi from Wikipedia.\n",
        "\n"
      ]
    },
    {
      "cell_type": "code",
      "execution_count": 2,
      "metadata": {
        "collapsed": false
      },
      "outputs": [
        {
          "name": "stdout",
          "output_type": "stream",
          "text": [
            "Selected GPU 0 with 4838 MB free memory \n"
          ]
        }
      ],
      "source": [
        "device = dinv.utils.get_freer_gpu() if torch.cuda.is_available() else \"cpu\"\n",
        "\n",
        "url = (\n",
        "    \"https://upload.wikimedia.org/wikipedia/commons/b/b4/\"\n",
        "    \"Lionel-Messi-Argentina-2022-FIFA-World-Cup_%28cropped%29.jpg\"\n",
        ")\n",
        "x = load_url_image(url=url, img_size=32).to(device)"
      ]
    },
    {
      "cell_type": "markdown",
      "metadata": {},
      "source": [
        "## Define forward operator and noise model\n",
        "\n",
        "This example uses inpainting as the forward operator and Gaussian noise as the noise model.\n",
        "\n"
      ]
    },
    {
      "cell_type": "code",
      "execution_count": 3,
      "metadata": {
        "collapsed": false
      },
      "outputs": [
        {
          "data": {
            "text/plain": [
              "<torch._C.Generator at 0x1c43f860110>"
            ]
          },
          "execution_count": 3,
          "metadata": {},
          "output_type": "execute_result"
        }
      ],
      "source": [
        "sigma = 0.1  # noise level\n",
        "physics = dinv.physics.Inpainting(mask=0.5, tensor_size=x.shape[1:], device=device)\n",
        "physics.noise_model = dinv.physics.GaussianNoise(sigma=sigma)\n",
        "\n",
        "# Set the global random seed from pytorch to ensure reproducibility of the example.\n",
        "torch.manual_seed(0)"
      ]
    },
    {
      "cell_type": "markdown",
      "metadata": {},
      "source": [
        "## Define the likelihood\n",
        "\n",
        "Since the noise model is Gaussian, the negative log-likelihood is the L2 loss.\n",
        "\n",
        "\\begin{align}-\\log p(y|x) \\propto \\frac{1}{2\\sigma^2} \\|y-Ax\\|^2\\end{align}\n",
        "\n"
      ]
    },
    {
      "cell_type": "code",
      "execution_count": 4,
      "metadata": {
        "collapsed": false
      },
      "outputs": [],
      "source": [
        "# load Gaussian Likelihood\n",
        "likelihood = dinv.optim.L2(sigma=sigma)"
      ]
    },
    {
      "cell_type": "markdown",
      "metadata": {},
      "source": [
        "## Define the prior\n",
        "\n",
        "The score a distribution can be approximated using Tweedie's formula via the\n",
        ":class:`deepinv.optim.ScorePrior` class.\n",
        "\n",
        "\\begin{align}\\nabla \\log p_{\\sigma}(x) \\approx \\frac{1}{\\sigma^2} \\left(D(x,\\sigma)-x\\right)\\end{align}\n",
        "\n",
        "This example uses a pretrained DnCNN model.\n",
        "From a Bayesian point of view, the score plays the role of the gradient of the\n",
        "negative log prior\n",
        "The hyperparameter ``sigma_denoiser`` ($sigma$) controls the strength of the prior.\n",
        "\n",
        "In this example, we use a pretrained DnCNN model using the :class:`deepinv.loss.FNEJacobianSpectralNorm` loss,\n",
        "which makes sure that the denoiser is firmly non-expansive (see\n",
        "[\"Building firmly nonexpansive convolutional neural networks\"](https://hal.science/hal-03139360)), and helps to\n",
        "stabilize the sampling algorithm.\n",
        "\n"
      ]
    },
    {
      "cell_type": "code",
      "execution_count": 5,
      "metadata": {
        "collapsed": false
      },
      "outputs": [],
      "source": [
        "sigma_denoiser = 2 / 255\n",
        "prior = dinv.optim.ScorePrior(\n",
        "    denoiser=dinv.models.DnCNN(pretrained=\"download_lipschitz\")\n",
        ").to(device)"
      ]
    },
    {
      "cell_type": "markdown",
      "metadata": {},
      "source": [
        "## Create the MCMC sampler\n",
        "\n",
        "Here we use the Unadjusted Langevin Algorithm (ULA) to sample from the posterior defined in\n",
        ":class:`deepinv.sampling.ULA`.\n",
        "The hyperparameter ``step_size`` controls the step size of the MCMC sampler,\n",
        "``regularization`` controls the strength of the prior and\n",
        "``iterations`` controls the number of iterations of the sampler.\n",
        "\n"
      ]
    },
    {
      "cell_type": "code",
      "execution_count": 6,
      "metadata": {
        "collapsed": false
      },
      "outputs": [],
      "source": [
        "regularization = 0.9\n",
        "step_size = 0.01 * (sigma**2)\n",
        "iterations = int(5e3) if torch.cuda.is_available() else 10\n",
        "f = dinv.sampling.ULA(\n",
        "    prior=prior,\n",
        "    data_fidelity=likelihood,\n",
        "    max_iter=iterations,\n",
        "    alpha=regularization,\n",
        "    step_size=step_size,\n",
        "    verbose=True,\n",
        "    sigma=sigma_denoiser,\n",
        ")"
      ]
    },
    {
      "cell_type": "markdown",
      "metadata": {},
      "source": [
        "## Generate the measurement\n",
        "We apply the forward model to generate the noisy measurement.\n",
        "\n"
      ]
    },
    {
      "cell_type": "code",
      "execution_count": 7,
      "metadata": {
        "collapsed": false
      },
      "outputs": [],
      "source": [
        "y = physics(x)"
      ]
    },
    {
      "cell_type": "markdown",
      "metadata": {},
      "source": [
        "## Run sampling algorithm and plot results\n",
        "The sampling algorithm returns the posterior mean and variance.\n",
        "We compare the posterior mean with a simple linear reconstruction.\n",
        "\n"
      ]
    },
    {
      "cell_type": "code",
      "execution_count": 8,
      "metadata": {
        "collapsed": false
      },
      "outputs": [
        {
          "name": "stderr",
          "output_type": "stream",
          "text": [
            "100%|██████████| 5000/5000 [00:14<00:00, 352.96it/s]\n"
          ]
        },
        {
          "name": "stdout",
          "output_type": "stream",
          "text": [
            "Monte Carlo sampling finished! elapsed time=14.18 seconds\n",
            "Iteration 4999, current converge crit. = 8.46E-05, objective = 1.00E-03 \n",
            "Linear reconstruction PSNR: 8.53 dB\n",
            "Posterior mean PSNR: 19.41 dB\n"
          ]
        },
        {
          "data": {
            "image/png": "[encoded data removed]",
            "text/plain": [
              "<Figure size 1000x200 with 5 Axes>"
            ]
          },
          "metadata": {},
          "output_type": "display_data"
        }
      ],
      "source": [
        "mean, var = f(y, physics)\n",
        "\n",
        "# compute linear inverse\n",
        "x_lin = physics.A_adjoint(y)\n",
        "\n",
        "# compute PSNR\n",
        "print(f\"Linear reconstruction PSNR: {dinv.utils.metric.cal_psnr(x, x_lin):.2f} dB\")\n",
        "print(f\"Posterior mean PSNR: {dinv.utils.metric.cal_psnr(x, mean):.2f} dB\")\n",
        "\n",
        "# plot results\n",
        "error = (mean - x).abs().sum(dim=1).unsqueeze(1)  # per pixel average abs. error\n",
        "std = var.sum(dim=1).unsqueeze(1).sqrt()  # per pixel average standard dev.\n",
        "imgs = [x_lin, x, mean, std / std.flatten().max(), error / error.flatten().max()]\n",
        "plot(\n",
        "    imgs,\n",
        "    titles=[\"measurement\", \"ground truth\", \"post. mean\", \"post. std\", \"abs. error\"],\n",
        ")"
      ]
    },
    {
      "cell_type": "code",
      "execution_count": null,
      "metadata": {},
      "outputs": [],
      "source": []
    }
  ],
  "metadata": {
    "kernelspec": {
      "display_name": "Python 3",
      "language": "python",
      "name": "python3"
    },
    "language_info": {
      "codemirror_mode": {
        "name": "ipython",
        "version": 3
      },
      "file_extension": ".py",
      "mimetype": "text/x-python",
      "name": "python",
      "nbconvert_exporter": "python",
      "pygments_lexer": "ipython3",
      "version": "3.11.5"
    }
  },
  "nbformat": 4,
  "nbformat_minor": 0
}
